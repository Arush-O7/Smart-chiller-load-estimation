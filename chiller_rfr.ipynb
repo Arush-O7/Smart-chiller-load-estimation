{
 "cells": [
  {
   "cell_type": "code",
   "execution_count": null,
   "id": "7aa09511-f3ca-4272-a98f-a89bcd82034e",
   "metadata": {},
   "outputs": [],
   "source": [
    "import pandas as pd\n",
    "from sklearn.preprocessing import MinMaxScaler\n",
    "from sklearn.model_selection import train_test_split\n",
    "from sklearn.ensemble import RandomForestRegressor\n",
    "from sklearn.metrics import mean_squared_error\n",
    "\n",
    "\n",
    "table_data = pd.read_excel('table_data.xlsx')\n",
    "sensor_data = pd.read_excel('sensor_data.xlsx')\n",
    "\n",
    "table_data['DateTime'] = pd.to_datetime(table_data['DateTime'])\n",
    "sensor_data['DateTime'] = pd.to_datetime(sensor_data['DateTime'])\n",
    "\n",
    "sensor_data['DateTime'] = sensor_data['DateTime'].dt.floor('10min')\n"
   ]
  },
  {
   "cell_type": "code",
   "execution_count": null,
   "id": "b7397ea4-6ea4-4d4b-8690-b2a122365a6c",
   "metadata": {},
   "outputs": [],
   "source": [
    "\n",
    "merged_data = pd.merge(table_data, sensor_data, on='DateTime', how='inner')\n",
    "\n",
    "merged_data['Year'] = merged_data['DateTime'].dt.year\n",
    "merged_data['Month'] = merged_data['DateTime'].dt.month\n",
    "merged_data['Day'] = merged_data['DateTime'].dt.day\n",
    "merged_data['Hour'] = merged_data['DateTime'].dt.hour\n",
    "merged_data['Minute'] = merged_data['DateTime'].dt.minute\n",
    "\n",
    "\n"
   ]
  },
  {
   "cell_type": "code",
   "execution_count": null,
   "id": "33944f16-2505-4d8d-9d8e-4018c41b0b19",
   "metadata": {},
   "outputs": [],
   "source": [
    "def scale_features(data, target_col=None):\n",
    "    numerical_cols = data.select_dtypes(include=['float64', 'int64']).columns\n",
    "    scaler = MinMaxScaler()\n",
    "    data[numerical_cols] = scaler.fit_transform(data[numerical_cols])\n",
    "    return data\n",
    "\n",
    "merged_data.fillna(merged_data.mean(), inplace=True)\n",
    "\n",
    "\n",
    "print(scaled_data.head())\n"
   ]
  },
  {
   "cell_type": "code",
   "execution_count": null,
   "id": "54d720e7-8a8e-42a7-a293-15d964895a36",
   "metadata": {},
   "outputs": [],
   "source": [
    "\n",
    "selected_features = ['Year','Month','Day','Hour','Minute,Month','RH [%]', 'WBT_C', 'GPM', 'kW_Tot', 'DeltaCHW']\n",
    "X = scaled_data[selected_features]\n",
    "y = scaled_data['CH Load']\n",
    "X['RH [%]', 'WBT_C', 'GPM', 'kW_Tot', 'DeltaCHW']= scale_features(X['RH [%]', 'WBT_C', 'GPM', 'kW_Tot', 'DeltaCHW'])\n",
    "\n",
    "X_train, X_test, y_train, y_test = train_test_split(X, y, test_size=0.2, random_state=42)\n",
    "\n",
    "model = RandomForestRegressor(n_estimators=100, random_state=42)\n",
    "model.fit(X_train, y_train)\n",
    "\n",
    "y_pred = model.predict(X_test)\n",
    "mse = mean_squared_error(y_test, y_pred)\n",
    "print(f'Mean Squared Error: {mse}')\n",
    "\n",
    "from sklearn.metrics import r2_score\n",
    "\n",
    "r_squared = r2_score(y_test, y_pred)\n",
    "print(f'R-squared Score: {r_squared}')\n"
   ]
  },
  {
   "cell_type": "code",
   "execution_count": null,
   "id": "e15deb86-57e2-4736-83cd-afa81b40b14a",
   "metadata": {},
   "outputs": [],
   "source": [
    "import matplotlib.pyplot as plt\n",
    "\n",
    "feature_importances = model.feature_importances_\n",
    "features = X.columns\n",
    "\n",
    "plt.figure(figsize=(10, 6))\n",
    "plt.barh(features, feature_importances)\n",
    "plt.xlabel('Importance')\n",
    "plt.title('Feature Importance')\n",
    "plt.show()\n"
   ]
  },
  {
   "cell_type": "code",
   "execution_count": null,
   "id": "5f41555e-e7bb-4585-bc76-9ce2244707ca",
   "metadata": {},
   "outputs": [],
   "source": [
    "def predict_ch_load(model, scaler, X):\n",
    "    print(\"Please enter the following details for CH Load prediction:\")\n",
    "\n",
    "    month = int(input(\"Enter the month:\"))\n",
    "    rh = float(input(\"Relative Humidity [%]: \"))\n",
    "    wbt = float(input(\"WBT [°C]: \"))\n",
    "    gpm = float(input(\"Flowrate GPM: \"))\n",
    "    kw_tot = float(input(\"kW_Tot: \"))\n",
    "    delta_chw = float(input(\"Delta CHW [°C]: \"))\n",
    "\n",
    "\n",
    "    input_data = pd.DataFrame([[rh, wbt, gpm, kw_tot, delta_chw]],\n",
    "                              columns=['RH [%]', 'WBT_C', 'GPM', 'kW_Tot', 'DeltaCHW'])\n",
    "\n",
    "\n",
    "    input_data_scaled = scaler.transform(input_data)\n",
    "    predicted_ch_load_scaled = model.predict(input_data_scaled)\n",
    "\n",
    "\n",
    "    predicted_ch_load = model.predict(input_data_scaled)\n",
    "    min_CH_load = merged_data['CH Load'].min()\n",
    "    max_CH_load = merged_data['CH Load'].max()\n",
    "    predicted_ch_load = (predicted_ch_load_scaled * (max_CH_load - min_CH_load)) + min_CH_load\n",
    "\n",
    "    print(f\"Predicted CH Load: {predicted_ch_load[0]:.2f}\")\n",
    "\n",
    "\n",
    "predict_ch_load(model, MinMaxScaler().fit(X), X)\n"
   ]
  },
  {
   "cell_type": "code",
   "execution_count": null,
   "id": "d1d29fcd-3b7a-4350-9fda-a02f95328825",
   "metadata": {},
   "outputs": [],
   "source": [
    "import matplotlib.pyplot as plt\n",
    "\n",
    "plt.figure(figsize=(10, 6))\n",
    "plt.scatter(y_test, y_pred, color='red', label='Predicted', marker='x')\n",
    "plt.plot([y_test.min(), y_test.max()], [y_test.min(), y_test.max()], color='blue', lw=2, label='Perfect Fit Line')\n",
    "plt.xlabel(\"Actual CH Load\")\n",
    "plt.ylabel(\"Predicted CH Load\")\n",
    "plt.title(\"Actual vs Predicted CH Load\")\n",
    "plt.legend()\n",
    "plt.show()\n",
    "\n",
    "plt.figure(figsize=(10, 6))\n",
    "plt.scatter(y_train, y_train, color='blue', label='Actual (Train)', marker='o')\n",
    "plt.scatter(y_train, train_predictions, color='red', label='Predicted (Train)', marker='x')\n",
    "plt.xlabel(\"Actual CH Load (Train)\")\n",
    "plt.ylabel(\"Predicted CH Load (Train)\")\n",
    "plt.title(\"Actual vs Predicted CH Load (Training Data)\")\n",
    "plt.legend()\n",
    "plt.show()\n",
    "\n"
   ]
  }
 ],
 "metadata": {
  "kernelspec": {
   "display_name": "Python 3 (ipykernel)",
   "language": "python",
   "name": "python3"
  },
  "language_info": {
   "codemirror_mode": {
    "name": "ipython",
    "version": 3
   },
   "file_extension": ".py",
   "mimetype": "text/x-python",
   "name": "python",
   "nbconvert_exporter": "python",
   "pygments_lexer": "ipython3",
   "version": "3.11.4"
  }
 },
 "nbformat": 4,
 "nbformat_minor": 5
}
